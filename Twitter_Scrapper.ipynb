{
  "nbformat": 4,
  "nbformat_minor": 0,
  "metadata": {
    "colab": {
      "name": "Twitter_Scrapper.ipynb",
      "provenance": []
    },
    "kernelspec": {
      "name": "python3",
      "display_name": "Python 3"
    }
  },
  "cells": [
    {
      "cell_type": "code",
      "metadata": {
        "id": "3UVc5-fF_ciC"
      },
      "source": [
        "import tweepy\r\n",
        "\r\n",
        "\r\n",
        "consumerKey = ##\r\n",
        "consumerSecret = ##\r\n",
        "accessToken = ##\r\n",
        "accessTokenSecret = ##\r\n",
        "\r\n",
        "auth = tweepy.OAuthHandler(consumerKey, consumerSecret)\r\n",
        "auth.set_access_token(accessToken, accessTokenSecret)\r\n",
        "    \r\n",
        "api = tweepy.API(auth, wait_on_rate_limit=True)    # set wait_on_rate_limit =True; as twitter may block you from querying if it finds you exceeding some limits\r\n",
        "\r\n",
        "\r\n",
        "date_since = \"2021-1-29\"\r\n",
        "date_until = \"2021-2-5\"\r\n",
        "\r\n",
        "tweets = tweepy.Cursor(api.search,q =\"\", geocode=\"28.610001,77.230003,200km\",\r\n",
        "                       lang=\"en\", since=date_since,until = date_until,tweet_mode = 'extended',\r\n",
        "                                                     include_retweets=True).items()\r\n",
        "## the geocode is for India; format for geocode=\"lattitude,longitude,radius\"\r\n",
        "## radius should be in miles or km\r\n",
        "\r\n",
        "\r\n",
        "for tweet in tweets:\r\n",
        "    try:\r\n",
        "        with open('/content/drive/MyDrive/delhi_2_6_2021.json', 'a') as f:\r\n",
        "          f.write(str(tweet._json)+\"\\n\")\r\n",
        "          #return True\r\n",
        "    except BaseException as e:\r\n",
        "            print(\"Error on_data: %s\" % str(e))\r\n",
        "    #return True\r\n"
      ],
      "execution_count": null,
      "outputs": []
    }
  ]
}